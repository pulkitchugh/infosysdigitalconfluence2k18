{
  "cells": [
    {
      "metadata": {
        "_uuid": "8f2839f25d086af736a60e9eeb907d3b93b6e0e5",
        "_cell_guid": "b1076dfc-b9ad-4769-8c92-a6c4dae69d19",
        "trusted": true
      },
      "cell_type": "code",
      "source": "# This Python 3 environment comes with many helpful analytics libraries installed\n# It is defined by the kaggle/python docker image: https://github.com/kaggle/docker-python\n# For example, here's several helpful packages to load in \n\nimport numpy as np # linear algebra\nimport pandas as pd # data processing, CSV file I/O (e.g. pd.read_csv)\nimport seaborn as sns\nimport matplotlib.pyplot as plt\n\n# Input data files are available in the \"../input/\" directory.\n# For example, running this (by clicking run or pressing Shift+Enter) will list the files in the input directory\n\nimport os\nprint(os.listdir(\"../input\"))\n\n# Any results you write to the current directory are saved as output.",
      "execution_count": null,
      "outputs": []
    },
    {
      "metadata": {
        "trusted": true,
        "_uuid": "359b958e6c58fc899ba8bdaab00b412a0a579358"
      },
      "cell_type": "code",
      "source": "import pandas as pd # to import csv and for data manipulation\nimport matplotlib.pyplot as plt # to plot graph\nimport seaborn as sns # for intractve graphs\nimport numpy as np # for linear algebra\nimport datetime # to dela with date and time\n%matplotlib inline\nfrom sklearn.preprocessing import StandardScaler # for preprocessing the data\nfrom sklearn.ensemble import RandomForestClassifier # Random forest classifier\nfrom sklearn.tree import DecisionTreeClassifier # for Decision Tree classifier\nfrom sklearn.svm import SVC # for SVM classification\nfrom sklearn.linear_model import LogisticRegression\nfrom sklearn.cross_validation import train_test_split # to split the data\nfrom sklearn.cross_validation import KFold # For cross vbalidation\nfrom sklearn.model_selection import GridSearchCV # for tunnig hyper parameter it will use all combination of given parameters\nfrom sklearn.model_selection import RandomizedSearchCV # same for tunning hyper parameter but will use random combinations of parameters\nfrom sklearn.metrics import confusion_matrix,recall_score,precision_recall_curve,auc,roc_curve,roc_auc_score,classification_report\nimport warnings\nwarnings.filterwarnings('ignore')",
      "execution_count": null,
      "outputs": []
    },
    {
      "metadata": {
        "_cell_guid": "79c7e3d0-c299-4dcb-8224-4455121ee9b0",
        "_uuid": "d629ff2d2480ee46fbb7e2d37f6b5fab8052498a",
        "trusted": true
      },
      "cell_type": "code",
      "source": "data=pd.read_csv(\"../input/creditcard.csv\")",
      "execution_count": null,
      "outputs": []
    },
    {
      "metadata": {
        "trusted": true,
        "_uuid": "f268f9e396cd4c023866f2eee1a34b1ce48f8387"
      },
      "cell_type": "code",
      "source": "data.head()",
      "execution_count": null,
      "outputs": []
    },
    {
      "metadata": {
        "trusted": true,
        "_uuid": "24e613f8093511568fe37db6177426bc4c4dd87b"
      },
      "cell_type": "code",
      "source": "!nvidia-smi",
      "execution_count": null,
      "outputs": []
    },
    {
      "metadata": {
        "trusted": true,
        "_uuid": "0a35bd6101a7df4c882158ef247d8e67f3a1988d"
      },
      "cell_type": "code",
      "source": "\"\"\"Checking the class distribution\"\"\"\n\ndata[\"Class\"].value_counts()",
      "execution_count": null,
      "outputs": []
    },
    {
      "metadata": {
        "trusted": true,
        "_uuid": "dd756d0d251361ae7cd7112d16b99d9a6b797524"
      },
      "cell_type": "code",
      "source": "sns.countplot(\"Class\",data=data)",
      "execution_count": null,
      "outputs": []
    },
    {
      "metadata": {
        "trusted": true,
        "_uuid": "ef15304783d0d51e9b926af3c49a20a51ac242b8"
      },
      "cell_type": "code",
      "source": "Fraud_transacation = data[data[\"Class\"]==1]\nNormal_transacation= data[data[\"Class\"]==0]\nplt.figure(figsize=(10,6))\nplt.subplot(121)\nFraud_transacation.Amount.plot.hist(title=\"Fraud Transacation\")\nplt.subplot(122)\nNormal_transacation[Normal_transacation[\"Amount\"]<=2500].Amount.plot.hist(title=\"Normal Transaction\")",
      "execution_count": null,
      "outputs": []
    },
    {
      "metadata": {
        "_uuid": "9d321737443b779e4a87e282cc65aa8a379c929e"
      },
      "cell_type": "markdown",
      "source": "I am thinking to segregate the data into different clusters and then analysing cluster properties -> fraud transactions cluster in a separate cluster.\nThe approach I am going to to experiment with are:\n1. SMOTE data genration\n2. Droping least important features and genetrate new hand coded features (creating 2D 3D 4D fatures using the most important features)\n\nNew dimensions can also throw data in separate space and then Boosting models can be implemented very easily."
    },
    {
      "metadata": {
        "trusted": true,
        "_uuid": "b79d4c12076000cf1bee536b5d1dbb74adcd8b92"
      },
      "cell_type": "code",
      "source": "from imblearn.over_sampling import SMOTE\n\n",
      "execution_count": null,
      "outputs": []
    },
    {
      "metadata": {
        "trusted": true,
        "_uuid": "e95494c1d11cf4e3847bc4b1a6e0d4a34109fc6c"
      },
      "cell_type": "code",
      "source": "\"\"\"Converting data frame to numpy array to apply SMOTE\"\"\"\nfeatures= data.drop([\"Class\"],axis=1)\nx=features.values\nlabel = data[\"Class\"]\ny=label.values\n",
      "execution_count": null,
      "outputs": []
    },
    {
      "metadata": {
        "trusted": true,
        "_uuid": "8b234c6c5f67d8bf0d6df5edc7169cd1459efeb0"
      },
      "cell_type": "code",
      "source": "y.shape",
      "execution_count": null,
      "outputs": []
    },
    {
      "metadata": {
        "trusted": true,
        "_uuid": "3cc8cf34450d2fe355b75e0ec2115f83fa9433f6"
      },
      "cell_type": "code",
      "source": "np.count_nonzero(y)",
      "execution_count": null,
      "outputs": []
    },
    {
      "metadata": {
        "trusted": true,
        "_uuid": "4bbed17420a636f93cc43c6dcc4ddad50be4d171"
      },
      "cell_type": "code",
      "source": "sm = SMOTE(random_state=42)\nX_res, Y_res = sm.fit_resample(x,y)",
      "execution_count": null,
      "outputs": []
    },
    {
      "metadata": {
        "trusted": true,
        "_uuid": "2061ff26517784bfd367f03443e20bf2667f1f31"
      },
      "cell_type": "code",
      "source": "print(np.count_nonzero(Y_res), \"fraud count\")",
      "execution_count": null,
      "outputs": []
    },
    {
      "metadata": {
        "trusted": true,
        "_uuid": "6c07101647476296b794ad5ebc7b897ff861b42e"
      },
      "cell_type": "code",
      "source": "\"\"\"Converting numpy array back to pandas data frame\"\"\"\nX_s = pd.DataFrame(X_res)\nY_s = pd.DataFrame(Y_res)",
      "execution_count": null,
      "outputs": []
    },
    {
      "metadata": {
        "trusted": true,
        "_uuid": "dfe5ea54a7ab24414fea58d9d40d4ac3aba64525"
      },
      "cell_type": "code",
      "source": "X_s.head()",
      "execution_count": null,
      "outputs": []
    },
    {
      "metadata": {
        "trusted": true,
        "_uuid": "608eb90ffa9f13e457e12fbb7b1a769c95c96c42"
      },
      "cell_type": "code",
      "source": "x_features_train,x_features_test,x_labels_train,x_labels_test =  train_test_split(X_s,Y_s,test_size=0.1)",
      "execution_count": null,
      "outputs": []
    },
    {
      "metadata": {
        "trusted": true,
        "_uuid": "dbdda986f6e5ca0cfc570bf7982ab1f5eb9fc468"
      },
      "cell_type": "code",
      "source": "import xgboost as xgb\nxgb_SMOTE = xgb.XGBClassifier(max_depth=3, n_estimators=300, learning_rate=0.05).fit(x_features_train,x_labels_train)",
      "execution_count": null,
      "outputs": []
    },
    {
      "metadata": {
        "trusted": true,
        "_uuid": "c33f370674277cc205378e36de7c6a104cbbc74f"
      },
      "cell_type": "code",
      "source": "predictions = xgb_SMOTE.predict(x_features_test)\n",
      "execution_count": null,
      "outputs": []
    },
    {
      "metadata": {
        "trusted": true,
        "_uuid": "c0588fdc3c946d693b1edfa7f428ea8c53778e53"
      },
      "cell_type": "code",
      "source": "predictions = predictions.reshape(56863,1)\npredictions.shape",
      "execution_count": null,
      "outputs": []
    },
    {
      "metadata": {
        "trusted": true,
        "_uuid": "2a1ede17ad5db18f5169eb8f72b7cbe64b4ca2cf"
      },
      "cell_type": "code",
      "source": "x_labels_test.shape",
      "execution_count": null,
      "outputs": []
    },
    {
      "metadata": {
        "trusted": true,
        "_uuid": "1bac256e75bad6e6f3de0d95b2ded7e246e09575"
      },
      "cell_type": "code",
      "source": "\"\"\"The accuracy achived is 99.182\"\"\"\nfrom sklearn.metrics import accuracy_score\naccuracy_score(x_labels_test, predictions)",
      "execution_count": null,
      "outputs": []
    },
    {
      "metadata": {
        "trusted": true,
        "_uuid": "12cf856e688f905e669111f288617fcdeb07ef1b"
      },
      "cell_type": "code",
      "source": "import itertools\n\ndef plot_confusion_matrix(cm, classes,\n                          normalize=False,\n                          title='Confusion matrix',\n                          cmap=plt.cm.Blues):\n    \"\"\"\n    This function prints and plots the confusion matrix.\n    Normalization can be applied by setting `normalize=True`.\n    \"\"\"\n    plt.imshow(cm, interpolation='nearest', cmap=cmap)\n    plt.title(title)\n    plt.colorbar()\n    tick_marks = np.arange(len(classes))\n    plt.xticks(tick_marks, classes, rotation=0)\n    plt.yticks(tick_marks, classes)\n\n    if normalize:\n        cm = cm.astype('float') / cm.sum(axis=1)[:, np.newaxis]\n        #print(\"Normalized confusion matrix\")\n    else:\n        1#print('Confusion matrix, without normalization')\n\n    #print(cm)\n\n    thresh = cm.max() / 2.\n    for i, j in itertools.product(range(cm.shape[0]), range(cm.shape[1])):\n        plt.text(j, i, cm[i, j],\n                 horizontalalignment=\"center\",\n                 color=\"white\" if cm[i, j] > thresh else \"black\")\n\n    plt.tight_layout()\n    plt.ylabel('True label')\n    plt.xlabel('Predicted label')",
      "execution_count": null,
      "outputs": []
    },
    {
      "metadata": {
        "trusted": true,
        "_uuid": "32029696271b2e594b0480f893005c8475bc665e"
      },
      "cell_type": "code",
      "source": "cnf_matrix = confusion_matrix(x_labels_test, predictions)\nclass_names = [0,1]\nplt.figure()\nplot_confusion_matrix(cnf_matrix\n                      , classes=class_names\n                      , title='Confusion matrix')\nplt.show()",
      "execution_count": null,
      "outputs": []
    },
    {
      "metadata": {
        "trusted": true,
        "_uuid": "22cec1b3efe4d725112aefbe96ae4c5519750684"
      },
      "cell_type": "code",
      "source": "xgb_SMOTE.feature_importances_",
      "execution_count": null,
      "outputs": []
    },
    {
      "metadata": {
        "trusted": true,
        "_uuid": "7eb8c10d26fc97503d2039888f04576ee218726e"
      },
      "cell_type": "code",
      "source": "X_s.head()",
      "execution_count": null,
      "outputs": []
    },
    {
      "metadata": {
        "trusted": true,
        "_uuid": "d38327147053a1c2b2a4bdc1a191b0782c252906"
      },
      "cell_type": "code",
      "source": "X_s[30] = pd.DataFrame(X_res[:,4]*X_res[:,14])\nX_s[31] = pd.DataFrame(X_res[:,0]*X_res[:,12])\nX_s[32] = pd.DataFrame(X_res[:,4]*X_res[:,14]*X_res[:,12])\nX_s[33] = pd.DataFrame(X_res[:,0]*X_res[:,12]*X_res[:,4])\nX_s[34] = pd.DataFrame(X_res[:,0]*X_res[:,17])\nX_s[35] = pd.DataFrame(X_res[:,4]*X_res[:,17]*X_res[:,14])",
      "execution_count": null,
      "outputs": []
    },
    {
      "metadata": {
        "trusted": true,
        "scrolled": true,
        "_uuid": "2fbf972b9eeca4bc9fb8d3d1914e017b77f2a7ce"
      },
      "cell_type": "code",
      "source": "X_s.head()",
      "execution_count": null,
      "outputs": []
    },
    {
      "metadata": {
        "trusted": true,
        "_uuid": "76e8cfc454db120b35a077594b9668c6660d196d"
      },
      "cell_type": "code",
      "source": "x_features_train1,x_features_test1,x_labels_train1,x_labels_test1 =  train_test_split(X_s,Y_s,test_size=0.1)",
      "execution_count": null,
      "outputs": []
    },
    {
      "metadata": {
        "trusted": true,
        "_uuid": "4a4a0b30998796499c2f6566cc073399c039bdab"
      },
      "cell_type": "code",
      "source": "import xgboost as xgb\nxgb_feature = xgb.XGBClassifier(max_depth=3, n_estimators=300, learning_rate=0.05).fit(x_features_train1,x_labels_train1)",
      "execution_count": null,
      "outputs": []
    },
    {
      "metadata": {
        "trusted": true,
        "_uuid": "de9778650a5e832942e6133b965682019d922aeb"
      },
      "cell_type": "code",
      "source": "xgb_feature = xgb.XGBClassifier(max_depth=5, n_estimators=350, learning_rate=0.02).fit(x_features_train1,x_labels_train1)",
      "execution_count": null,
      "outputs": []
    },
    {
      "metadata": {
        "trusted": true,
        "_uuid": "cd01df347468fe4ff43dfbc1cba116e91fd36659"
      },
      "cell_type": "code",
      "source": "predictions1 = xgb_feature.predict(x_features_test1)\npredictions1 = predictions1.reshape(56863,1)",
      "execution_count": null,
      "outputs": []
    },
    {
      "metadata": {
        "trusted": true,
        "_uuid": "05117025df1e6e00633ab7186dc595f0daf73e37"
      },
      "cell_type": "code",
      "source": "cnf_matrix = confusion_matrix(x_labels_test1, predictions1)\nclass_names = [0,1]\nplt.figure()\nplot_confusion_matrix(cnf_matrix\n                      , classes=class_names\n                      , title='Confusion matrix')\nplt.show()",
      "execution_count": null,
      "outputs": []
    },
    {
      "metadata": {
        "trusted": true,
        "_uuid": "5d4504a4574366a2b67579058aca2491a4243b5e"
      },
      "cell_type": "code",
      "source": "features =list(X_s.columns.values)\nfeatures_str = [str(item) for item in features]\nX_s.columns=[features_str]\nX_s['LABEL']=Y_s\nX_s.head()",
      "execution_count": null,
      "outputs": []
    },
    {
      "metadata": {
        "trusted": true,
        "_uuid": "d2da61bcc17f093191cb38c6e163f622b0512405"
      },
      "cell_type": "code",
      "source": "import tensorflow as tf",
      "execution_count": null,
      "outputs": []
    },
    {
      "metadata": {
        "trusted": true,
        "_uuid": "8ea8fb37f2906f2c91eb71634b04999347ac7e47"
      },
      "cell_type": "code",
      "source": "def make_train_input_fn(dfx, num_epochs):\n  return tf.estimator.inputs.pandas_input_fn(\n    x = df,\n    y = df[LABEL],\n    batch_size = 128,\n    num_epochs = num_epochs,\n    shuffle = True,\n    queue_capacity = 1000\n  )",
      "execution_count": null,
      "outputs": []
    },
    {
      "metadata": {
        "trusted": true,
        "_uuid": "b855be612c7eca57a650e4324fa0e783c98f06a2"
      },
      "cell_type": "code",
      "source": "\ndef make_eval_input_fn(dfx,dfy):\n  return tf.estimator.inputs.pandas_input_fn(\n    x = df,\n    y = df[LABEL],\n    batch_size = 128,\n    shuffle = False,\n    queue_capacity = 1000\n  )",
      "execution_count": null,
      "outputs": []
    },
    {
      "metadata": {
        "trusted": true,
        "_uuid": "a25e6ca0133c726cb33c5c530fc3dc6877b48def"
      },
      "cell_type": "code",
      "source": "",
      "execution_count": null,
      "outputs": []
    },
    {
      "metadata": {
        "trusted": true,
        "_uuid": "2b3afb0315877ba06070b2544a2238faeac8cf1f"
      },
      "cell_type": "code",
      "source": "def make_prediction_input_fn(df):\n  return tf.estimator.inputs.pandas_input_fn(\n    x = df,\n    y = None,\n    batch_size = 128,\n    shuffle = False,\n    queue_capacity = 1000\n  )",
      "execution_count": null,
      "outputs": []
    },
    {
      "metadata": {
        "trusted": true,
        "_uuid": "a48ad1e1bbca89f4f9636446d661d90d4655dac6"
      },
      "cell_type": "code",
      "source": "",
      "execution_count": null,
      "outputs": []
    },
    {
      "metadata": {
        "trusted": true,
        "_uuid": "1dda72e9f38a8e14c6569052044fbd08216c62d3"
      },
      "cell_type": "code",
      "source": "COLUMNS= ['1','2','3','4','5']",
      "execution_count": null,
      "outputs": []
    },
    {
      "metadata": {
        "trusted": true,
        "_uuid": "6621bfc339ec2d77497e1bac858e1369a5eda4e5"
      },
      "cell_type": "code",
      "source": "FEATURES = COLUMNS[0:len(COLUMNS)]\nprint(FEATURES)",
      "execution_count": null,
      "outputs": []
    },
    {
      "metadata": {
        "trusted": true,
        "_uuid": "999340cf6b0c0b2e348f8870aeec0c29179e62a4"
      },
      "cell_type": "code",
      "source": "def make_feature_cols():\n  input_columns = [tf.feature_column.re(k) for k in FEATURES]\n  return input_columns",
      "execution_count": null,
      "outputs": []
    },
    {
      "metadata": {
        "trusted": true,
        "_uuid": "e1fd2ac0fdbf0869623f13f9df51ef882fdc9c9a"
      },
      "cell_type": "code",
      "source": "import shutil",
      "execution_count": null,
      "outputs": []
    },
    {
      "metadata": {
        "trusted": true,
        "_uuid": "eb13353de864229e45b62c82a01f7d6ba9f42fc7"
      },
      "cell_type": "code",
      "source": "tf.logging.set_verbosity(tf.logging.INFO)\n\nOUTDIR = 'trained'\nshutil.rmtree(OUTDIR, ignore_errors = True) # start fresh each time\n\nmodel = tf.estimator.LinearRegressor(\n      feature_columns = make_feature_cols(), model_dir = OUTDIR)\n\nmodel.train(input_fn = make_train_input_fn(X_s.head(),Y_s.head(), num_epochs = 10))",
      "execution_count": null,
      "outputs": []
    },
    {
      "metadata": {
        "trusted": true,
        "_uuid": "62af3d04e6f5879c126b1dcf46570ea9e8810903"
      },
      "cell_type": "code",
      "source": "",
      "execution_count": null,
      "outputs": []
    }
  ],
  "metadata": {
    "kernelspec": {
      "display_name": "Python 3",
      "language": "python",
      "name": "python3"
    },
    "language_info": {
      "name": "python",
      "version": "3.6.6",
      "mimetype": "text/x-python",
      "codemirror_mode": {
        "name": "ipython",
        "version": 3
      },
      "pygments_lexer": "ipython3",
      "nbconvert_exporter": "python",
      "file_extension": ".py"
    }
  },
  "nbformat": 4,
  "nbformat_minor": 1
}