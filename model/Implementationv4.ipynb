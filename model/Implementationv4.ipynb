{
  "nbformat": 4,
  "nbformat_minor": 0,
  "metadata": {
    "colab": {
      "name": "Implementationv4.ipynb",
      "version": "0.3.2",
      "provenance": []
    },
    "kernelspec": {
      "name": "python3",
      "display_name": "Python 3"
    }
  },
  "cells": [
    {
      "metadata": {
        "id": "eUskKgUEvdaT",
        "colab_type": "code",
        "colab": {
          "base_uri": "https://localhost:8080/",
          "height": 106
        },
        "outputId": "2c05069e-d2ab-49ed-db33-770c75427e37"
      },
      "cell_type": "code",
      "source": [
        "#installing libraries\n",
        "!pip install imblearn\n",
        "\n",
        "#Oversampling\n",
        "from imblearn.over_sampling import SMOTE\n",
        "\n",
        "#Universal Imports\n",
        "import pandas as pd\n",
        "import numpy as np\n",
        "import matplotlib.pyplot as plt\n",
        "%matplotlib inline\n",
        "\n",
        "#For Random Search\n",
        "from time import time\n",
        "from scipy.stats import randint as sp_randint\n",
        "from sklearn.model_selection import GridSearchCV\n",
        "from sklearn.model_selection import RandomizedSearchCV\n",
        "\n",
        "#Models\n",
        "import xgboost as xgb\n",
        "from sklearn.ensemble import RandomForestClassifier\n",
        "from sklearn import svm\n",
        "from sklearn.model_selection import train_test_split # to split the data\n",
        "\n",
        "from sklearn.metrics import confusion_matrix"
      ],
      "execution_count": 19,
      "outputs": [
        {
          "output_type": "stream",
          "text": [
            "Requirement already satisfied: imblearn in /usr/local/lib/python3.6/dist-packages (0.0)\n",
            "Requirement already satisfied: imbalanced-learn in /usr/local/lib/python3.6/dist-packages (from imblearn) (0.4.2)\n",
            "Requirement already satisfied: numpy>=1.8.2 in /usr/local/lib/python3.6/dist-packages (from imbalanced-learn->imblearn) (1.14.6)\n",
            "Requirement already satisfied: scipy>=0.13.3 in /usr/local/lib/python3.6/dist-packages (from imbalanced-learn->imblearn) (0.19.1)\n",
            "Requirement already satisfied: scikit-learn>=0.20 in /usr/local/lib/python3.6/dist-packages (from imbalanced-learn->imblearn) (0.20.0)\n"
          ],
          "name": "stdout"
        }
      ]
    },
    {
      "metadata": {
        "id": "qPJgDbf4GyB3",
        "colab_type": "code",
        "colab": {}
      },
      "cell_type": "code",
      "source": [
        "import itertools\n",
        "\n",
        "def plot_confusion_matrix(cm, classes,\n",
        "                          normalize=False,\n",
        "                          title='Confusion matrix',\n",
        "                          cmap=plt.cm.Blues):\n",
        "    \"\"\"\n",
        "    This function prints and plots the confusion matrix.\n",
        "    Normalization can be applied by setting `normalize=True`.\n",
        "    \"\"\"\n",
        "    plt.imshow(cm, interpolation='nearest', cmap=cmap)\n",
        "    plt.title(title)\n",
        "    plt.colorbar()\n",
        "    tick_marks = np.arange(len(classes))\n",
        "    plt.xticks(tick_marks, classes, rotation=0)\n",
        "    plt.yticks(tick_marks, classes)\n",
        "\n",
        "    if normalize:\n",
        "        cm = cm.astype('float') / cm.sum(axis=1)[:, np.newaxis]\n",
        "        #print(\"Normalized confusion matrix\")\n",
        "    else:\n",
        "        1#print('Confusion matrix, without normalization')\n",
        "\n",
        "    #print(cm)\n",
        "\n",
        "    thresh = cm.max() / 2.\n",
        "    for i, j in itertools.product(range(cm.shape[0]), range(cm.shape[1])):\n",
        "        plt.text(j, i, cm[i, j],\n",
        "                 horizontalalignment=\"center\",\n",
        "                 color=\"white\" if cm[i, j] > thresh else \"black\")\n",
        "\n",
        "    plt.tight_layout()\n",
        "    plt.ylabel('True label')\n",
        "    plt.xlabel('Predicted label')"
      ],
      "execution_count": 0,
      "outputs": []
    },
    {
      "metadata": {
        "id": "geYH4crzF88l",
        "colab_type": "code",
        "colab": {}
      },
      "cell_type": "code",
      "source": [
        "data=pd.read_csv(\"gdrive/My Drive/infosys/creditcard.csv\")\n",
        "\n",
        "Fraud_transacation = data[data[\"Class\"]==1]\n",
        "Normal_transacation= data[data[\"Class\"]==0]\n",
        "\n",
        "\"\"\"Converting data frame to numpy array to apply SMOTE\"\"\"\n",
        "features= data.drop([\"Class\",\"Time\"],axis=1)\n",
        "x=features.values\n",
        "label = data[\"Class\"]\n",
        "y=label.values\n",
        "\n",
        "sm = SMOTE(random_state=42)\n",
        "X_res, Y_res = sm.fit_resample(x,y)\n",
        "\n",
        "\"\"\"Converting numpy array back to pandas data frame\"\"\"\n",
        "X_s = pd.DataFrame(X_res)\n",
        "Y_s = pd.DataFrame(Y_res)\n",
        "\n",
        "X_s[30] = pd.DataFrame(X_res[:,4]*X_res[:,14])\n",
        "X_s[31] = pd.DataFrame(X_res[:,0]*X_res[:,12])\n",
        "X_s[32] = pd.DataFrame(X_res[:,4]*X_res[:,14]*X_res[:,12])\n",
        "X_s[33] = pd.DataFrame(X_res[:,0]*X_res[:,12]*X_res[:,4])\n",
        "X_s[34] = pd.DataFrame(X_res[:,0]*X_res[:,17])\n",
        "X_s[35] = pd.DataFrame(X_res[:,4]*X_res[:,17]*X_res[:,14])"
      ],
      "execution_count": 0,
      "outputs": []
    },
    {
      "metadata": {
        "id": "l78g60jaF9cB",
        "colab_type": "code",
        "colab": {}
      },
      "cell_type": "code",
      "source": [
        "x_features_train1,x_features_test1,x_labels_train1,x_labels_test1 =  train_test_split(X_s,Y_s,test_size=0.1)"
      ],
      "execution_count": 0,
      "outputs": []
    },
    {
      "metadata": {
        "id": "ZE0IUbxlGakl",
        "colab_type": "code",
        "colab": {
          "base_uri": "https://localhost:8080/",
          "height": 108
        },
        "outputId": "37357336-8e44-4014-c47a-cb18bc71b9c3"
      },
      "cell_type": "code",
      "source": [
        "xgb_feature = xgb.XGBClassifier(max_depth=2, n_estimators=5, learning_rate=0.02).fit(x_features_train1,x_labels_train1)"
      ],
      "execution_count": 14,
      "outputs": [
        {
          "output_type": "stream",
          "text": [
            "/usr/local/lib/python3.6/dist-packages/sklearn/preprocessing/label.py:219: DataConversionWarning: A column-vector y was passed when a 1d array was expected. Please change the shape of y to (n_samples, ), for example using ravel().\n",
            "  y = column_or_1d(y, warn=True)\n",
            "/usr/local/lib/python3.6/dist-packages/sklearn/preprocessing/label.py:252: DataConversionWarning: A column-vector y was passed when a 1d array was expected. Please change the shape of y to (n_samples, ), for example using ravel().\n",
            "  y = column_or_1d(y, warn=True)\n"
          ],
          "name": "stderr"
        }
      ]
    },
    {
      "metadata": {
        "id": "POft5IwxG6Wb",
        "colab_type": "code",
        "colab": {}
      },
      "cell_type": "code",
      "source": [
        "predictions1 = xgb_feature.predict(x_features_test1)\n",
        "predictions1 = predictions1.reshape(56863,1)"
      ],
      "execution_count": 0,
      "outputs": []
    },
    {
      "metadata": {
        "id": "IiV7FN_nG6ch",
        "colab_type": "code",
        "colab": {
          "base_uri": "https://localhost:8080/",
          "height": 311
        },
        "outputId": "e458e227-e743-4e71-a320-529d3ec56646"
      },
      "cell_type": "code",
      "source": [
        "cnf_matrix = confusion_matrix(x_labels_test1, predictions1)\n",
        "class_names = [0,1]\n",
        "plt.figure()\n",
        "plot_confusion_matrix(cnf_matrix\n",
        "                      , classes=class_names\n",
        "                      , title='Confusion matrix')\n",
        "plt.show()"
      ],
      "execution_count": 20,
      "outputs": [
        {
          "output_type": "display_data",
          "data": {
            "image/png": "[encoded data removed]",
            "text/plain": [
              "<matplotlib.figure.Figure at 0x7f906de92048>"
            ]
          },
          "metadata": {
            "tags": []
          }
        }
      ]
    },
    {
      "metadata": {
        "trusted": true,
        "_uuid": "05117025df1e6e00633ab7186dc595f0daf73e37",
        "id": "XPpmqyKEu_M4",
        "colab_type": "code",
        "colab": {}
      },
      "cell_type": "code",
      "source": [
        ""
      ],
      "execution_count": 0,
      "outputs": []
    }
  ]
}